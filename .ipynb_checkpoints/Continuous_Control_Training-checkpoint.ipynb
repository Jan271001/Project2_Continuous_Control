{
 "cells": [
  {
   "cell_type": "code",
   "execution_count": 1,
   "id": "c2deb3d3",
   "metadata": {},
   "outputs": [],
   "source": [
    "import time\n",
    "from unityagents import UnityEnvironment\n",
    "import numpy as np\n",
    "import torch\n",
    "import random\n",
    "from agent import Agent\n",
    "from collections import deque\n",
    "import matplotlib.pyplot as plt\n",
    "%matplotlib inline"
   ]
  },
  {
   "cell_type": "code",
   "execution_count": 2,
   "id": "82f4ff6f",
   "metadata": {},
   "outputs": [
    {
     "name": "stderr",
     "output_type": "stream",
     "text": [
      "INFO:unityagents:\n",
      "'Academy' started successfully!\n",
      "Unity Academy name: Academy\n",
      "        Number of Brains: 1\n",
      "        Number of External Brains : 1\n",
      "        Lesson number : 0\n",
      "        Reset Parameters :\n",
      "\t\tgoal_size -> 5.0\n",
      "\t\tgoal_speed -> 1.0\n",
      "Unity brain name: ReacherBrain\n",
      "        Number of Visual Observations (per agent): 0\n",
      "        Vector Observation space type: continuous\n",
      "        Vector Observation space size (per agent): 33\n",
      "        Number of stacked Vector Observation: 1\n",
      "        Vector Action space type: continuous\n",
      "        Vector Action space size (per agent): 4\n",
      "        Vector Action descriptions: , , , \n"
     ]
    }
   ],
   "source": [
    "env = UnityEnvironment(file_name='Env_20_Agents/Reacher_Linux/Reacher.x86_64', no_graphics = True)"
   ]
  },
  {
   "cell_type": "code",
   "execution_count": 3,
   "id": "f68a52f4",
   "metadata": {},
   "outputs": [],
   "source": [
    "# get the default brain\n",
    "brain_name = env.brain_names[0]\n",
    "brain = env.brains[brain_name]"
   ]
  },
  {
   "cell_type": "code",
   "execution_count": 4,
   "id": "278ac442",
   "metadata": {},
   "outputs": [
    {
     "name": "stdout",
     "output_type": "stream",
     "text": [
      "Number of agents: 20\n",
      "Size of each action: 4\n",
      "There are 20 agents. Each observes a state with length: 33\n",
      "The state for the first agent looks like: [ 0.00000000e+00 -4.00000000e+00  0.00000000e+00  1.00000000e+00\n",
      " -0.00000000e+00 -0.00000000e+00 -4.37113883e-08  0.00000000e+00\n",
      "  0.00000000e+00  0.00000000e+00  0.00000000e+00  0.00000000e+00\n",
      "  0.00000000e+00  0.00000000e+00 -1.00000000e+01  0.00000000e+00\n",
      "  1.00000000e+00 -0.00000000e+00 -0.00000000e+00 -4.37113883e-08\n",
      "  0.00000000e+00  0.00000000e+00  0.00000000e+00  0.00000000e+00\n",
      "  0.00000000e+00  0.00000000e+00  5.75471878e+00 -1.00000000e+00\n",
      "  5.55726624e+00  0.00000000e+00  1.00000000e+00  0.00000000e+00\n",
      " -1.68164849e-01]\n"
     ]
    }
   ],
   "source": [
    "# reset the environment\n",
    "env_info = env.reset(train_mode=True)[brain_name]\n",
    "\n",
    "# number of agents\n",
    "num_agents = len(env_info.agents)\n",
    "print('Number of agents:', num_agents)\n",
    "\n",
    "# size of each action\n",
    "action_size = brain.vector_action_space_size\n",
    "print('Size of each action:', action_size)\n",
    "\n",
    "# examine the state space \n",
    "states = env_info.vector_observations\n",
    "state_size = states.shape[1]\n",
    "print('There are {} agents. Each observes a state with length: {}'.format(states.shape[0], state_size))\n",
    "print('The state for the first agent looks like:', states[0])"
   ]
  },
  {
   "cell_type": "code",
   "execution_count": 5,
   "id": "ce6076e3",
   "metadata": {},
   "outputs": [],
   "source": [
    "#definition hyperparameters and trainingsconditions\n",
    "n_episodes = 300\n",
    "max_noice= 1.0\n",
    "noice_decay = 0.995\n",
    "training_mode = True\n",
    "random_seed = 0"
   ]
  },
  {
   "cell_type": "code",
   "execution_count": 6,
   "id": "80b34480",
   "metadata": {
    "scrolled": true
   },
   "outputs": [
    {
     "name": "stdout",
     "output_type": "stream",
     "text": [
      "Episode:0 Score:1.1864999734796584 Mean Score(last 100 episodes):1.1864999734796584 Duration episode:04m21s Duration training:00h04m21s\n",
      "Episode:1 Score:2.2639999493956564 Mean Score(last 100 episodes):1.7252499614376575 Duration episode:04m43s Duration training:00h09m05s\n"
     ]
    },
    {
     "data": {
      "image/png": "[encoded data removed]",
      "text/plain": [
       "<Figure size 432x288 with 1 Axes>"
      ]
     },
     "metadata": {
      "needs_background": "light"
     },
     "output_type": "display_data"
    }
   ],
   "source": [
    "# Initialize Feed-forward DNNs for Actor and Critic models. \n",
    "agent = Agent(state_size, action_size, random_seed, max_noice, noice_decay)\n",
    "\n",
    "#train the agent\n",
    "def ddpg_train(n_episodes):\n",
    "    #list containing scores from each episode\n",
    "    scores = []\n",
    "    #list containing means over last 100 episodes\n",
    "    means = []\n",
    "    #last 100 scores\n",
    "    scores_window = deque(maxlen = 100)\n",
    "    # messure time for achieving a mean score over 30\n",
    "    start_time = time.time()\n",
    "    for episode in range(n_episodes):\n",
    "        # messure time for one episode\n",
    "        start_episode = time.time()\n",
    "        # Reset the enviroment\n",
    "        env_info = env.reset(train_mode=training_mode)[brain_name] \n",
    "        cur_states = env_info.vector_observations\n",
    "        score = np.zeros(num_agents)\n",
    "        # initialize timestep\n",
    "        timestep = 0\n",
    "        # reset noise\n",
    "        agent.reset()\n",
    "        while True:\n",
    "            # Choose best action for given network\n",
    "            actions = agent.act(cur_states, add_noise = True)\n",
    "            # Action is performed and new state, reward, info are received. \n",
    "            env_info = env.step(actions)[brain_name]\n",
    "            # get next state \n",
    "            next_states = env_info.vector_observations\n",
    "            # see if episode is finished\n",
    "            dones = env_info.local_done\n",
    "            # get reward\n",
    "            rewards = env_info.rewards\n",
    "            # save experience to replay buffer, perform learning step at defined interval\"\n",
    "            for cur_state, action, reward, next_state, done in zip(cur_states, \n",
    "                                                                   actions, \n",
    "                                                                   rewards, \n",
    "                                                                   next_states, \n",
    "                                                                   dones):\n",
    "                # current state, action, reward, new state are stored in the experience replay\"\n",
    "                agent.step(cur_state, action, reward, next_state, done, timestep)\n",
    "            # roll over new state\n",
    "            cur_states = next_states      \n",
    "            #add reward to score\n",
    "            score += rewards\n",
    "            # count timestep\n",
    "            timestep+=1\n",
    "            \n",
    "            if np.any(dones):\n",
    "                break\n",
    "        \n",
    "        # calculate time\n",
    "        time_episode = time.time() - start_episode\n",
    "        time_entire = time.time() - start_time\n",
    "        #save most recent score\n",
    "        scores_window.append(score)\n",
    "        scores.append(score)\n",
    "        mean = np.mean(scores_window)\n",
    "        means.append(mean)\n",
    "        print(\"Episode:\" + str(episode) + \" Score:\" + str(np.mean(score)) + \n",
    "              \" Mean Score(last 100 episodes):\" + str(np.mean(scores_window)) +\n",
    "              \" Duration episode:\" + time.strftime('%Mm%Ss', time.gmtime(time_episode)) + \n",
    "              \" Duration training:\" + time.strftime('%Hh%Mm%Ss', time.gmtime(time_entire)))\n",
    "        \n",
    "        # save model weights\n",
    "        if (episode+1) % 10 == 0 or np.mean(scores_window) >= 30:\n",
    "            torch.save(agent.actor_local.state_dict(), 'checkpoint_Actor.pth')\n",
    "            torch.save(agent.critic_local.state_dict(), 'checkpoint_Critic.pth')\n",
    "            if np.mean(scores_window) >= 30:\n",
    "                print(\"Environment solved in \" + str(episode) + \" episodes. Mean score over all 20 agents \" +\n",
    "                      str(np.mean(scores_window)) + \" for the last 100 episodes\")\n",
    "    \n",
    "    return scores, means\n",
    "\n",
    "scores, means = ddpg_train(n_episodes)\n",
    "\n",
    "episode_scores = []\n",
    "for record in scores:\n",
    "    episode_scores.append(np.mean(record))\n",
    "\n",
    "#plot the scores\n",
    "fig = plt.figure()\n",
    "ax = fig.add_subplot(111)\n",
    "plt.plot(np.arange(len(episode_scores)), episode_scores, label = \"score\")\n",
    "plt.plot(np.arange(len(means)), means, label = \"mean\")\n",
    "plt.axhline(y=30, color='r', linestyle='--', label=\"target\")\n",
    "plt.ylabel('Score')\n",
    "plt.xlabel('Episode')\n",
    "plt.legend()\n",
    "plt.show()"
   ]
  },
  {
   "cell_type": "code",
   "execution_count": 7,
   "id": "4b3cf90c",
   "metadata": {},
   "outputs": [],
   "source": [
    "env.close()"
   ]
  }
 ],
 "metadata": {
  "kernelspec": {
   "display_name": "drlnd",
   "language": "python",
   "name": "drlnd"
  },
  "language_info": {
   "codemirror_mode": {
    "name": "ipython",
    "version": 3
   },
   "file_extension": ".py",
   "mimetype": "text/x-python",
   "name": "python",
   "nbconvert_exporter": "python",
   "pygments_lexer": "ipython3",
   "version": "3.6.13"
  }
 },
 "nbformat": 4,
 "nbformat_minor": 5
}
