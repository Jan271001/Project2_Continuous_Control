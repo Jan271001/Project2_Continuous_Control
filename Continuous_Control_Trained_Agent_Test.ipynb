{
 "cells": [
  {
   "cell_type": "code",
   "execution_count": 1,
   "id": "c5f3b868",
   "metadata": {},
   "outputs": [],
   "source": [
    "from unityagents import UnityEnvironment\n",
    "import numpy as np\n",
    "import torch\n",
    "from agent import Agent\n",
    "import matplotlib.pyplot as plt\n",
    "%matplotlib inline"
   ]
  },
  {
   "cell_type": "code",
   "execution_count": 2,
   "id": "1063387e",
   "metadata": {},
   "outputs": [
    {
     "name": "stderr",
     "output_type": "stream",
     "text": [
      "INFO:unityagents:\n",
      "'Academy' started successfully!\n",
      "Unity Academy name: Academy\n",
      "        Number of Brains: 1\n",
      "        Number of External Brains : 1\n",
      "        Lesson number : 0\n",
      "        Reset Parameters :\n",
      "\t\tgoal_speed -> 1.0\n",
      "\t\tgoal_size -> 5.0\n",
      "Unity brain name: ReacherBrain\n",
      "        Number of Visual Observations (per agent): 0\n",
      "        Vector Observation space type: continuous\n",
      "        Vector Observation space size (per agent): 33\n",
      "        Number of stacked Vector Observation: 1\n",
      "        Vector Action space type: continuous\n",
      "        Vector Action space size (per agent): 4\n",
      "        Vector Action descriptions: , , , \n"
     ]
    }
   ],
   "source": [
    "# definition hyperparameters, trainingsconditions and environment\n",
    "env = UnityEnvironment(file_name='Env_1_Agent/Reacher_Linux/Reacher.x86_64')\n",
    "n_episodes = 10\n",
    "training_mode = False"
   ]
  },
  {
   "cell_type": "code",
   "execution_count": 3,
   "id": "bfda862d",
   "metadata": {},
   "outputs": [],
   "source": [
    "# get the default brain\n",
    "brain_name = env.brain_names[0]\n",
    "brain = env.brains[brain_name]"
   ]
  },
  {
   "cell_type": "code",
   "execution_count": 4,
   "id": "889a2cd5",
   "metadata": {},
   "outputs": [
    {
     "name": "stdout",
     "output_type": "stream",
     "text": [
      "Number of agents: 1\n",
      "Size of each action: 4\n",
      "There are 1 agents. Each observes a state with length: 33\n"
     ]
    }
   ],
   "source": [
    "# reset the environment\n",
    "env_info = env.reset(train_mode=training_mode)[brain_name]\n",
    "\n",
    "# number of agents\n",
    "num_agents = len(env_info.agents)\n",
    "print('Number of agents:', num_agents)\n",
    "\n",
    "# size of each action\n",
    "action_size = brain.vector_action_space_size\n",
    "print('Size of each action:', action_size)\n",
    "\n",
    "# examine the state space \n",
    "states = env_info.vector_observations\n",
    "state_size = states.shape[1]\n",
    "print('There are {} agents. Each observes a state with length: {}'.format(states.shape[0], state_size))"
   ]
  },
  {
   "cell_type": "code",
   "execution_count": 5,
   "id": "6bc430b7",
   "metadata": {},
   "outputs": [],
   "source": [
    "# get trained agent\n",
    "agent = Agent(state_size=state_size, action_size=action_size)\n",
    "agent.actor_local.load_state_dict(torch.load('checkpoint_Actor.pth', map_location=lambda storage, loc: storage))\n",
    "agent.critic_local.load_state_dict(torch.load('checkpoint_Critic.pth', map_location=lambda storage, loc: storage))"
   ]
  },
  {
   "cell_type": "code",
   "execution_count": 6,
   "id": "a5883b89",
   "metadata": {},
   "outputs": [
    {
     "name": "stdout",
     "output_type": "stream",
     "text": [
      " Score trained agent:37.09999917075038\n",
      " Score trained agent:35.999999195337296\n",
      " Score trained agent:38.519999139010906\n",
      " Score trained agent:39.27999912202358\n",
      " Score trained agent:39.519999116659164\n",
      " Score trained agent:39.61999911442399\n",
      " Score trained agent:39.02999912761152\n",
      " Score trained agent:39.41999911889434\n",
      " Score trained agent:38.24999914504588\n",
      " Score trained agent:39.31999912112951\n",
      "Mean over all episodes: 38.60599913708866\n"
     ]
    },
    {
     "data": {
      "image/png": "[encoded data removed]",
      "text/plain": [
       "<Figure size 432x288 with 1 Axes>"
      ]
     },
     "metadata": {
      "needs_background": "light"
     },
     "output_type": "display_data"
    }
   ],
   "source": [
    "#use trained agent\n",
    "#train the agent\n",
    "def ddpg_test(n_episodes):\n",
    "    #list containing scores from each episode\n",
    "    scores = []\n",
    "    for episode in range(n_episodes):\n",
    "        #Reset the enviroment\n",
    "        env_info = env.reset(train_mode=training_mode)[brain_name] \n",
    "        cur_state = env_info.vector_observations\n",
    "        score = np.zeros(num_agents)\n",
    "        #reset noise\n",
    "        agent.reset()\n",
    "        while True:\n",
    "            # Choose best action for given network\n",
    "            action = agent.act(cur_state, add_noise = False)\n",
    "            # Action is performed and new state, reward, info are received. \n",
    "            env_info = env.step(action)[brain_name]\n",
    "            # get next state \n",
    "            next_state = env_info.vector_observations\n",
    "            # see if episode is finished\n",
    "            done = env_info.local_done\n",
    "            # get reward\n",
    "            reward = env_info.rewards\n",
    "            # current state, action, reward, new state are stored in the experience replay\"\n",
    "            #agent.step(cur_state, action, reward, next_state, done)\n",
    "            # roll over new state\n",
    "            cur_state = next_state     \n",
    "            #add reward to score\n",
    "            score += reward\n",
    "            \n",
    "            if np.any(done):\n",
    "                break\n",
    "        \n",
    "        #save most recent score\n",
    "        scores.append(score)\n",
    "        print(\" Score trained agent:\" + str(np.mean(score)))\n",
    "    \n",
    "    return scores\n",
    "\n",
    "scores = ddpg_test(n_episodes)\n",
    "mean = np.mean(scores)\n",
    "print(\"Mean over all episodes: \" + str(mean))\n",
    "\n",
    "#plot the scores\n",
    "fig = plt.figure()\n",
    "ax = fig.add_subplot(111)\n",
    "plt.plot(np.arange(len(scores)), scores, label = \"scores\")\n",
    "plt.axhline(y=mean, color='r', linestyle='--', label=\"mean\")\n",
    "plt.ylabel('Score')\n",
    "plt.xlabel('Episode')\n",
    "plt.legend()\n",
    "plt.show()"
   ]
  },
  {
   "cell_type": "code",
   "execution_count": 7,
   "id": "fe6f7fe6",
   "metadata": {},
   "outputs": [],
   "source": [
    "env.close()"
   ]
  }
 ],
 "metadata": {
  "kernelspec": {
   "display_name": "drlnd",
   "language": "python",
   "name": "drlnd"
  },
  "language_info": {
   "codemirror_mode": {
    "name": "ipython",
    "version": 3
   },
   "file_extension": ".py",
   "mimetype": "text/x-python",
   "name": "python",
   "nbconvert_exporter": "python",
   "pygments_lexer": "ipython3",
   "version": "3.6.13"
  }
 },
 "nbformat": 4,
 "nbformat_minor": 5
}
